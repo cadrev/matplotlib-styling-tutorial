{
 "cells": [
  {
   "cell_type": "markdown",
   "metadata": {},
   "source": [
    "# Graphing with Matplotlib but styling like ggplot2\n",
    "\n",
    "An overview of how to use Python matplotlib for data visualization, using temperature and greenhouse gas data from NASA.\n",
    "\n"
   ]
  },
  {
   "cell_type": "markdown",
   "metadata": {},
   "source": [
    "# About the data\n",
    "\n",
    "\n",
    "This repo contains two data files:\n",
    "\n",
    "- [data/nasa-ghgases.csv](data/nasa-ghgases.csv) -- NASA CO2 measurements from 1850 to 2011\n",
    "- [data/nasa-gistemp.csv](data/nasa-gistemp.csv) -- NASA temperature measurements from 1880 to 2015\n",
    "\n",
    "\n",
    "\n",
    "The data comes from NASA and was extracted (using regex -- we'll show those tricks in another notebook) from the following source text files:\n",
    "\n",
    "via [GISS Climate Model](http://data.giss.nasa.gov/modelforce/ghgases/):\n",
    "\n",
    "[http://data.giss.nasa.gov/modelforce/ghgases/Fig1A.ext.txt](http://data.giss.nasa.gov/modelforce/ghgases/Fig1A.ext.txt)\n",
    "\n",
    "        Year,MixR\n",
    "        1850,285.2\n",
    "        1851,285.1\n",
    "        1852,285.0\n",
    "        2009,386.95\n",
    "        2010,389.21\n",
    "        2011,391.15\n",
    "\n",
    "via [GISS Surface Temperature Analysis](http://data.giss.nasa.gov/gistemp/graphs_v3/):\n",
    "\n",
    "[http://data.giss.nasa.gov/gistemp/graphs_v3/Fig.A.txt](http://data.giss.nasa.gov/gistemp/graphs_v3/Fig.A.txt)\n",
    "\n",
    "        Year,Annual_Mean,5-year_Mean\n",
    "        1880,-0.49,\n",
    "        1881,-0.47,\n",
    "        1882,-0.38,-0.48\n",
    "        2013,0.84,0.87\n",
    "        2014,0.90,\n",
    "        2015,1.01,\n"
   ]
  },
  {
   "cell_type": "markdown",
   "metadata": {},
   "source": [
    "## Initialize the defaults and import the libraries"
   ]
  },
  {
   "cell_type": "code",
   "execution_count": null,
   "metadata": {
    "collapsed": true
   },
   "outputs": [],
   "source": [
    "%matplotlib inline\n",
    "# only necessary for notebook mode\n",
    "from csv import DictReader\n",
    "import matplotlib.pyplot as plt\n",
    "from os.path import join\n",
    "DATA_DIR = 'data'\n",
    "CO2_DATAFILE = join('data', 'nasa-ghgases.csv')\n",
    "TEMP_DATAFILE = join('data', 'nasa-gistemp.csv')"
   ]
  },
  {
   "cell_type": "markdown",
   "metadata": {},
   "source": [
    "## Load the data\n",
    "\n",
    "To keep things relatively slim, we won't be using Pandas to load the data files into dataframes. Instead, we'll use good ol `csv.DictReader`. Note that the loading of the temp data gets messy because there are missing values for the `5-year_Mean` columns...so, yes, in reality, you should be using pandas to deal with that. But this data is simple enough to load via standard Python techniques.\n"
   ]
  },
  {
   "cell_type": "code",
   "execution_count": 21,
   "metadata": {
    "collapsed": false
   },
   "outputs": [],
   "source": [
    "# load the gas data\n",
    "with open(CO2_DATAFILE, 'r') as f:\n",
    "    data = list(DictReader(f))\n",
    "    gas_years = [int(d['Year']) for d in data]\n",
    "    gas_vals = [float(d['MixR']) for d in data]\n",
    "    \n",
    "    \n",
    "# load the temp data\n",
    "with open(TEMP_DATAFILE, 'r') as f:\n",
    "    data = list(DictReader(f))\n",
    "    temp_years = [int(d['Year']) for d in data]\n",
    "    temp_annual_means = [float(d['Annual_Mean']) for d in data]\n",
    "    temp_5yr_years = []\n",
    "    temp_5yr_means = []\n",
    "    for d in data:\n",
    "        if d['5-year_Mean']:            \n",
    "            temp_5yr_years.append(int(d['Year']))\n",
    "            temp_5yr_means.append(float(d['5-year_Mean']))\n",
    "\n",
    "    "
   ]
  },
  {
   "cell_type": "markdown",
   "metadata": {},
   "source": [
    "# Matplotlib barebone default styling\n",
    "\n",
    "Before we get into matplotlib's many styling and configuration options, let's see what its defaults can create for us."
   ]
  },
  {
   "cell_type": "markdown",
   "metadata": {},
   "source": [
    "### Basic line chart"
   ]
  },
  {
   "cell_type": "code",
   "execution_count": 41,
   "metadata": {
    "collapsed": false
   },
   "outputs": [
    {
     "data": {
      "text/plain": [
       "<matplotlib.text.Text at 0x113b542e8>"
      ]
     },
     "execution_count": 41,
     "metadata": {},
     "output_type": "execute_result"
    },
    {
     "data": {
      "image/png": "[encoded data removed]",
      "text/plain": [
       "<matplotlib.figure.Figure at 0x112dea5f8>"
      ]
     },
     "metadata": {},
     "output_type": "display_data"
    }
   ],
   "source": [
    "fig, ax = plt.subplots()\n",
    "ax.plot(gas_years, gas_vals)\n",
    "ax.set_xlabel('Year')\n",
    "ax.set_ylabel('CO2 level, parts per million')\n",
    "ax.set_title('Global average CO2 level')"
   ]
  },
  {
   "cell_type": "markdown",
   "metadata": {},
   "source": [
    "### Basic bar chart"
   ]
  },
  {
   "cell_type": "code",
   "execution_count": 47,
   "metadata": {
    "collapsed": false
   },
   "outputs": [
    {
     "data": {
      "text/plain": [
       "<matplotlib.legend.Legend at 0x1155e86a0>"
      ]
     },
     "execution_count": 47,
     "metadata": {},
     "output_type": "execute_result"
    },
    {
     "data": {
      "image/png": "[encoded data removed]",
      "text/plain": [
       "<matplotlib.figure.Figure at 0x115051fd0>"
      ]
     },
     "metadata": {},
     "output_type": "display_data"
    }
   ],
   "source": [
    "fig, ax = plt.subplots()\n",
    "ax.bar(temp_years, temp_annual_means, color='#CCCCCC', linewidth=0.5)\n",
    "line_5yr_means = ax.plot(temp_5yr_years, temp_5yr_means, color='red', \n",
    "                         linewidth=1, label='5-year rolling average')\n",
    "ax.set_ylabel('Difference in Celsius degrees')\n",
    "ax.set_xlabel('Year')\n",
    "ax.set_title(\"Annual global temperature compared to average temperature from 1950-1980\")\n",
    "ax.legend(handles=line_5yr_means)"
   ]
  },
  {
   "cell_type": "markdown",
   "metadata": {},
   "source": [
    "# TK: Using matplotlib styles to emulate ggplot2 look\n",
    "\n",
    "# TK: Creating ggplot2 look from scratch "
   ]
  },
  {
   "cell_type": "code",
   "execution_count": null,
   "metadata": {
    "collapsed": true
   },
   "outputs": [],
   "source": []
  }
 ],
 "metadata": {
  "kernelspec": {
   "display_name": "Python 3",
   "language": "python",
   "name": "python3"
  },
  "language_info": {
   "codemirror_mode": {
    "name": "ipython",
    "version": 3
   },
   "file_extension": ".py",
   "mimetype": "text/x-python",
   "name": "python",
   "nbconvert_exporter": "python",
   "pygments_lexer": "ipython3",
   "version": "3.5.1"
  }
 },
 "nbformat": 4,
 "nbformat_minor": 0
}
